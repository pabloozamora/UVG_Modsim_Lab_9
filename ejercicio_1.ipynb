{
 "cells": [
  {
   "cell_type": "markdown",
   "metadata": {},
   "source": [
    "## Ejercicio 1: Pruebas para comparar dos distribuciones"
   ]
  },
  {
   "cell_type": "markdown",
   "metadata": {},
   "source": [
    "### Chi-Cuadrado"
   ]
  },
  {
   "cell_type": "code",
   "execution_count": null,
   "metadata": {},
   "outputs": [
    {
     "name": "stdout",
     "output_type": "stream",
     "text": [
      "Prueba de Chi Cuadrado\n",
      "Estadística de Chi Cuadrado: 0.6477732793522267\n",
      "p-valor: 0.7233322349088317\n",
      "Grados de libertad: 2\n",
      "Frecuencias esperadas: [[47.5 32.5 20. ]\n",
      " [47.5 32.5 20. ]]\n"
     ]
    }
   ],
   "source": [
    "import numpy as np\n",
    "from scipy.stats import chi2_contingency\n",
    "\n",
    "# Generar dos conjuntos de datos categóricos\n",
    "# Los valores representan conteos de observaciones en cada categoría\n",
    "observed_counts_sample1 = [50, 30, 20]   # Frecuencias en la muestra 1\n",
    "observed_counts_sample2 = [45, 35, 20]   # Frecuencias en la muestra 2\n",
    "\n",
    "# Crear una tabla de contingencia con ambos conjuntos de datos\n",
    "data = [observed_counts_sample1, observed_counts_sample2]\n",
    "\n",
    "# Realizar la prueba de Chi Cuadrado\n",
    "chi2_stat, p_val, dof, expected = chi2_contingency(data)\n",
    "\n",
    "print(\"Prueba de Chi Cuadrado\")\n",
    "print(f\"Estadística de Chi Cuadrado: {chi2_stat}\")\n",
    "print(f\"p-valor: {p_val}\")\n",
    "print(f\"Grados de libertad: {dof}\")\n",
    "print(\"Frecuencias esperadas:\", expected)"
   ]
  },
  {
   "cell_type": "markdown",
   "metadata": {},
   "source": [
    "### Kolmogorov-Smirnov"
   ]
  },
  {
   "cell_type": "code",
   "execution_count": null,
   "metadata": {},
   "outputs": [
    {
     "name": "stdout",
     "output_type": "stream",
     "text": [
      "\n",
      "Prueba de Kolmogorov-Smirnov\n",
      "Estadística KS: 0.248\n",
      "p-valor: 2.104700973377179e-27\n"
     ]
    }
   ],
   "source": [
    "import numpy as np\n",
    "from scipy.stats import ks_2samp\n",
    "\n",
    "# Generar dos muestras de datos continuos\n",
    "np.random.seed(0)  # Para obtener resultados reproducibles\n",
    "sample1 = np.random.normal(loc=0, scale=1, size=1000)   # Muestra de una normal con media 0\n",
    "sample2 = np.random.normal(loc=0.5, scale=1, size=1000) # Muestra de una normal con media 0.5\n",
    "\n",
    "# Realizar la prueba de Kolmogorov-Smirnov\n",
    "ks_stat, p_val = ks_2samp(sample1, sample2)\n",
    "\n",
    "print(\"\\nPrueba de Kolmogorov-Smirnov\")\n",
    "print(f\"Estadística KS: {ks_stat}\")\n",
    "print(f\"p-valor: {p_val}\")"
   ]
  }
 ],
 "metadata": {
  "kernelspec": {
   "display_name": "Python 3",
   "language": "python",
   "name": "python3"
  },
  "language_info": {
   "codemirror_mode": {
    "name": "ipython",
    "version": 3
   },
   "file_extension": ".py",
   "mimetype": "text/x-python",
   "name": "python",
   "nbconvert_exporter": "python",
   "pygments_lexer": "ipython3",
   "version": "3.11.7"
  }
 },
 "nbformat": 4,
 "nbformat_minor": 2
}
